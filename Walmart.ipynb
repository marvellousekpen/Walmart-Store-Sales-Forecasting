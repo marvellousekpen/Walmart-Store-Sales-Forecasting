{
 "cells": [
  {
   "cell_type": "code",
   "execution_count": 1,
   "id": "33744edb-5ceb-4ac8-bf87-5193c625c648",
   "metadata": {},
   "outputs": [
    {
     "name": "stdout",
     "output_type": "stream",
     "text": [
      "Requirement already satisfied: psycopg2-binary in c:\\users\\hp\\anaconda3\\lib\\site-packages (2.9.10)\n"
     ]
    }
   ],
   "source": [
    "!pip install psycopg2-binary"
   ]
  },
  {
   "cell_type": "code",
   "execution_count": 2,
   "id": "3e518534-32e6-4e05-b50e-1da071efee72",
   "metadata": {},
   "outputs": [],
   "source": [
    "#import required libraries\n",
    "import pandas as pd\n",
    "import os\n",
    "import psycopg2\n",
    "from sqlalchemy import create_engine"
   ]
  },
  {
   "cell_type": "code",
   "execution_count": 3,
   "id": "645273fe-9cfc-43f2-8bdc-5582cbaa066d",
   "metadata": {},
   "outputs": [],
   "source": [
    "# set up connection to postgresql\n",
    "db_name = \"walmart\"\n",
    "user = \"postgres\"\n",
    "password = \"success\"\n",
    "host = \"localhost\"\n",
    "port = 5432\n",
    "\n",
    "engine = create_engine(f'postgresql://{user}:{password}@{host}:{port}/{db_name}')"
   ]
  },
  {
   "cell_type": "code",
   "execution_count": 5,
   "id": "3a1707c8-aaa1-401e-8f70-dfe1c7ca6647",
   "metadata": {},
   "outputs": [
    {
     "name": "stdout",
     "output_type": "stream",
     "text": [
      "Successfully imported complete.csv\n",
      "Successfully imported features.csv\n",
      "Successfully imported stores.csv\n",
      "Successfully imported submission.csv\n",
      "Successfully imported test.csv\n",
      "Successfully imported train.csv\n"
     ]
    }
   ],
   "source": [
    "# Folder containing CSV files\n",
    "folder_path = r\"C:\\Users\\HP\\Desktop\\walmart\"\n",
    "\n",
    "# Iterate through each CSV file in the folder\n",
    "for walmart in os.listdir(folder_path):\n",
    "    if walmart.endswith('.csv'):\n",
    "        file_path = os.path.join(folder_path, walmart)\n",
    "        \n",
    "        # Read the CSV file into a DataFrame\n",
    "        df = pd.read_csv(file_path, header = 0)\n",
    "        \n",
    "        # Create a table name based on the file name (remove extension)\n",
    "        table_name = os.path.splitext(walmart)[0]\n",
    "\n",
    "        #clean column names\n",
    "        df.columns = df.columns.str.lower().str.replace(' ', '_').str.replace(r'[^\\w]', '')\n",
    "\n",
    "        # derive table name\n",
    "        table_name = os.path.splitext(walmart)[0].lower()\n",
    "                                                                              \n",
    "        # Write the DataFrame to PostgreSQL (replace if table exists)\n",
    "        df.to_sql(table_name, engine, if_exists='replace', index=False)\n",
    "        \n",
    "        print(f\"Successfully imported {walmart}\")"
   ]
  },
  {
   "cell_type": "code",
   "execution_count": null,
   "id": "226de8e4-0fb2-467f-8f83-7e4425bd6870",
   "metadata": {},
   "outputs": [],
   "source": []
  }
 ],
 "metadata": {
  "kernelspec": {
   "display_name": "Python 3 (ipykernel)",
   "language": "python",
   "name": "python3"
  },
  "language_info": {
   "codemirror_mode": {
    "name": "ipython",
    "version": 3
   },
   "file_extension": ".py",
   "mimetype": "text/x-python",
   "name": "python",
   "nbconvert_exporter": "python",
   "pygments_lexer": "ipython3",
   "version": "3.12.4"
  }
 },
 "nbformat": 4,
 "nbformat_minor": 5
}
